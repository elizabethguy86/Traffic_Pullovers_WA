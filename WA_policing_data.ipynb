{
 "cells": [
  {
   "cell_type": "code",
   "execution_count": 76,
   "metadata": {},
   "outputs": [],
   "source": [
    "import numpy as np\n",
    "import pandas as pd\n",
    "import matplotlib.pyplot as plt\n",
    "from patsy import dmatrices\n",
    "from sklearn.model_selection import train_test_split\n",
    "from sklearn.preprocessing import PolynomialFeatures\n",
    "from sklearn.linear_model import LogisticRegression\n",
    "from sklearn.metrics import log_loss"
   ]
  },
  {
   "cell_type": "code",
   "execution_count": 2,
   "metadata": {},
   "outputs": [],
   "source": [
    "df_abbrev = pd.read_csv('data/WA-clean-abbrev.csv')"
   ]
  },
  {
   "cell_type": "code",
   "execution_count": 3,
   "metadata": {},
   "outputs": [
    {
     "data": {
      "text/plain": [
       "Index(['Unnamed: 0', 'id', 'state', 'stop_date', 'stop_time', 'location_raw',\n",
       "       'county_name', 'county_fips', 'fine_grained_location',\n",
       "       'police_department', 'driver_gender', 'driver_age_raw', 'driver_age',\n",
       "       'driver_race_raw', 'driver_race', 'violation_raw', 'violation',\n",
       "       'search_conducted', 'search_type_raw', 'search_type',\n",
       "       'contraband_found', 'stop_outcome', 'is_arrested', 'violations',\n",
       "       'officer_id', 'officer_gender', 'officer_race', 'highway_type',\n",
       "       'road_number', 'milepost', 'lat', 'lon', 'contact_type', 'enforcements',\n",
       "       'drugs_related_stop'],\n",
       "      dtype='object')"
      ]
     },
     "execution_count": 3,
     "metadata": {},
     "output_type": "execute_result"
    }
   ],
   "source": [
    "df_abbrev.columns"
   ]
  },
  {
   "cell_type": "code",
   "execution_count": 4,
   "metadata": {},
   "outputs": [],
   "source": [
    "df = df_abbrev.drop(columns=['state', 'stop_time', 'location_raw', 'county_fips', 'police_department', 'driver_age_raw', 'driver_race_raw',\n",
    "                         'violation_raw','search_type_raw', 'is_arrested'])"
   ]
  },
  {
   "cell_type": "code",
   "execution_count": 5,
   "metadata": {},
   "outputs": [
    {
     "data": {
      "text/html": [
       "<div>\n",
       "<style scoped>\n",
       "    .dataframe tbody tr th:only-of-type {\n",
       "        vertical-align: middle;\n",
       "    }\n",
       "\n",
       "    .dataframe tbody tr th {\n",
       "        vertical-align: top;\n",
       "    }\n",
       "\n",
       "    .dataframe thead th {\n",
       "        text-align: right;\n",
       "    }\n",
       "</style>\n",
       "<table border=\"1\" class=\"dataframe\">\n",
       "  <thead>\n",
       "    <tr style=\"text-align: right;\">\n",
       "      <th></th>\n",
       "      <th>Unnamed: 0</th>\n",
       "      <th>id</th>\n",
       "      <th>stop_date</th>\n",
       "      <th>county_name</th>\n",
       "      <th>fine_grained_location</th>\n",
       "      <th>driver_gender</th>\n",
       "      <th>driver_age</th>\n",
       "      <th>driver_race</th>\n",
       "      <th>violation</th>\n",
       "      <th>search_conducted</th>\n",
       "      <th>...</th>\n",
       "      <th>officer_gender</th>\n",
       "      <th>officer_race</th>\n",
       "      <th>highway_type</th>\n",
       "      <th>road_number</th>\n",
       "      <th>milepost</th>\n",
       "      <th>lat</th>\n",
       "      <th>lon</th>\n",
       "      <th>contact_type</th>\n",
       "      <th>enforcements</th>\n",
       "      <th>drugs_related_stop</th>\n",
       "    </tr>\n",
       "  </thead>\n",
       "  <tbody>\n",
       "    <tr>\n",
       "      <th>0</th>\n",
       "      <td>0</td>\n",
       "      <td>WA-2009-0000001</td>\n",
       "      <td>2009-01-01</td>\n",
       "      <td>Spokane County</td>\n",
       "      <td>S-002-280</td>\n",
       "      <td>M</td>\n",
       "      <td>27.0</td>\n",
       "      <td>White</td>\n",
       "      <td>Equipment</td>\n",
       "      <td>False</td>\n",
       "      <td>...</td>\n",
       "      <td>M</td>\n",
       "      <td>White</td>\n",
       "      <td>S</td>\n",
       "      <td>002</td>\n",
       "      <td>280.0</td>\n",
       "      <td>47.643152</td>\n",
       "      <td>-117.544585</td>\n",
       "      <td>Self-Initiated Contact</td>\n",
       "      <td>3</td>\n",
       "      <td>False</td>\n",
       "    </tr>\n",
       "    <tr>\n",
       "      <th>1</th>\n",
       "      <td>1</td>\n",
       "      <td>WA-2009-0000002</td>\n",
       "      <td>2009-01-01</td>\n",
       "      <td>NaN</td>\n",
       "      <td>C-018-NA</td>\n",
       "      <td>M</td>\n",
       "      <td>21.0</td>\n",
       "      <td>White</td>\n",
       "      <td>Speeding</td>\n",
       "      <td>False</td>\n",
       "      <td>...</td>\n",
       "      <td>F</td>\n",
       "      <td>White</td>\n",
       "      <td>C</td>\n",
       "      <td>018</td>\n",
       "      <td>NaN</td>\n",
       "      <td>NaN</td>\n",
       "      <td>NaN</td>\n",
       "      <td>Self-Initiated Contact</td>\n",
       "      <td>3</td>\n",
       "      <td>False</td>\n",
       "    </tr>\n",
       "    <tr>\n",
       "      <th>2</th>\n",
       "      <td>2</td>\n",
       "      <td>WA-2009-0000003</td>\n",
       "      <td>2009-01-01</td>\n",
       "      <td>King County</td>\n",
       "      <td>S-516-7</td>\n",
       "      <td>F</td>\n",
       "      <td>17.0</td>\n",
       "      <td>White</td>\n",
       "      <td>Speeding</td>\n",
       "      <td>False</td>\n",
       "      <td>...</td>\n",
       "      <td>M</td>\n",
       "      <td>White</td>\n",
       "      <td>S</td>\n",
       "      <td>516</td>\n",
       "      <td>7.0</td>\n",
       "      <td>47.373378</td>\n",
       "      <td>-122.209356</td>\n",
       "      <td>Self-Initiated Contact</td>\n",
       "      <td>3</td>\n",
       "      <td>False</td>\n",
       "    </tr>\n",
       "    <tr>\n",
       "      <th>3</th>\n",
       "      <td>3</td>\n",
       "      <td>WA-2009-0000004</td>\n",
       "      <td>2009-01-01</td>\n",
       "      <td>King County</td>\n",
       "      <td>S-515-2</td>\n",
       "      <td>M</td>\n",
       "      <td>31.0</td>\n",
       "      <td>Asian</td>\n",
       "      <td>License,Lights,Paperwork</td>\n",
       "      <td>True</td>\n",
       "      <td>...</td>\n",
       "      <td>M</td>\n",
       "      <td>White</td>\n",
       "      <td>S</td>\n",
       "      <td>515</td>\n",
       "      <td>2.0</td>\n",
       "      <td>47.414073</td>\n",
       "      <td>-122.197144</td>\n",
       "      <td>Self-Initiated Contact</td>\n",
       "      <td>1,1,1</td>\n",
       "      <td>False</td>\n",
       "    </tr>\n",
       "    <tr>\n",
       "      <th>4</th>\n",
       "      <td>4</td>\n",
       "      <td>WA-2009-0000005</td>\n",
       "      <td>2009-01-01</td>\n",
       "      <td>Kitsap County</td>\n",
       "      <td>S-303-8</td>\n",
       "      <td>F</td>\n",
       "      <td>24.0</td>\n",
       "      <td>White</td>\n",
       "      <td>Safe movement</td>\n",
       "      <td>False</td>\n",
       "      <td>...</td>\n",
       "      <td>M</td>\n",
       "      <td>White</td>\n",
       "      <td>S</td>\n",
       "      <td>303</td>\n",
       "      <td>8.0</td>\n",
       "      <td>47.659471</td>\n",
       "      <td>-122.675907</td>\n",
       "      <td>Self-Initiated Contact</td>\n",
       "      <td>3,3</td>\n",
       "      <td>False</td>\n",
       "    </tr>\n",
       "  </tbody>\n",
       "</table>\n",
       "<p>5 rows × 25 columns</p>\n",
       "</div>"
      ],
      "text/plain": [
       "   Unnamed: 0               id   stop_date     county_name  \\\n",
       "0           0  WA-2009-0000001  2009-01-01  Spokane County   \n",
       "1           1  WA-2009-0000002  2009-01-01             NaN   \n",
       "2           2  WA-2009-0000003  2009-01-01     King County   \n",
       "3           3  WA-2009-0000004  2009-01-01     King County   \n",
       "4           4  WA-2009-0000005  2009-01-01   Kitsap County   \n",
       "\n",
       "  fine_grained_location driver_gender  driver_age driver_race  \\\n",
       "0             S-002-280             M        27.0       White   \n",
       "1              C-018-NA             M        21.0       White   \n",
       "2               S-516-7             F        17.0       White   \n",
       "3               S-515-2             M        31.0       Asian   \n",
       "4               S-303-8             F        24.0       White   \n",
       "\n",
       "                  violation  search_conducted         ...          \\\n",
       "0                 Equipment             False         ...           \n",
       "1                  Speeding             False         ...           \n",
       "2                  Speeding             False         ...           \n",
       "3  License,Lights,Paperwork              True         ...           \n",
       "4             Safe movement             False         ...           \n",
       "\n",
       "  officer_gender  officer_race highway_type road_number  milepost        lat  \\\n",
       "0              M         White            S         002     280.0  47.643152   \n",
       "1              F         White            C         018       NaN        NaN   \n",
       "2              M         White            S         516       7.0  47.373378   \n",
       "3              M         White            S         515       2.0  47.414073   \n",
       "4              M         White            S         303       8.0  47.659471   \n",
       "\n",
       "          lon            contact_type enforcements  drugs_related_stop  \n",
       "0 -117.544585  Self-Initiated Contact            3               False  \n",
       "1         NaN  Self-Initiated Contact            3               False  \n",
       "2 -122.209356  Self-Initiated Contact            3               False  \n",
       "3 -122.197144  Self-Initiated Contact        1,1,1               False  \n",
       "4 -122.675907  Self-Initiated Contact          3,3               False  \n",
       "\n",
       "[5 rows x 25 columns]"
      ]
     },
     "execution_count": 5,
     "metadata": {},
     "output_type": "execute_result"
    }
   ],
   "source": [
    "df.head()"
   ]
  },
  {
   "cell_type": "code",
   "execution_count": 6,
   "metadata": {},
   "outputs": [],
   "source": [
    "df['stop_date'] = pd.to_datetime(df.stop_date)"
   ]
  },
  {
   "cell_type": "code",
   "execution_count": 7,
   "metadata": {},
   "outputs": [],
   "source": [
    "df.driver_age.fillna(df.driver_age.mean(), inplace=True)"
   ]
  },
  {
   "cell_type": "code",
   "execution_count": 8,
   "metadata": {},
   "outputs": [],
   "source": [
    "df = df.dropna(subset=['driver_race', 'driver_gender'])"
   ]
  },
  {
   "cell_type": "code",
   "execution_count": 9,
   "metadata": {},
   "outputs": [
    {
     "data": {
      "text/plain": [
       "Unnamed: 0                   0\n",
       "id                           0\n",
       "stop_date                    0\n",
       "county_name              10427\n",
       "fine_grained_location        0\n",
       "driver_gender                0\n",
       "driver_age                   0\n",
       "driver_race                  0\n",
       "violation                  949\n",
       "search_conducted             0\n",
       "search_type              67276\n",
       "contraband_found             0\n",
       "stop_outcome               998\n",
       "violations                 949\n",
       "officer_id                   0\n",
       "officer_gender               0\n",
       "officer_race                 0\n",
       "highway_type                 0\n",
       "road_number                  0\n",
       "milepost                  7648\n",
       "lat                      10427\n",
       "lon                      10427\n",
       "contact_type               550\n",
       "enforcements               998\n",
       "drugs_related_stop           0\n",
       "dtype: int64"
      ]
     },
     "execution_count": 9,
     "metadata": {},
     "output_type": "execute_result"
    }
   ],
   "source": [
    "df.isnull().sum() #no missing values for search_conducted - could be interesting to look for"
   ]
  },
  {
   "cell_type": "code",
   "execution_count": 10,
   "metadata": {},
   "outputs": [],
   "source": [
    "df['driver_gender'] = pd.Series(np.where(df.driver_gender.values == 'F', 1, 0),\n",
    "          df.index)"
   ]
  },
  {
   "cell_type": "code",
   "execution_count": 11,
   "metadata": {},
   "outputs": [],
   "source": [
    "df['officer_gender'] = pd.Series(np.where(df.officer_gender.values == 'F', 1, 0),\n",
    "          df.index)"
   ]
  },
  {
   "cell_type": "code",
   "execution_count": 12,
   "metadata": {},
   "outputs": [],
   "source": [
    "race_dummies = pd.get_dummies(df.driver_race)"
   ]
  },
  {
   "cell_type": "code",
   "execution_count": 13,
   "metadata": {},
   "outputs": [
    {
     "data": {
      "text/html": [
       "<div>\n",
       "<style scoped>\n",
       "    .dataframe tbody tr th:only-of-type {\n",
       "        vertical-align: middle;\n",
       "    }\n",
       "\n",
       "    .dataframe tbody tr th {\n",
       "        vertical-align: top;\n",
       "    }\n",
       "\n",
       "    .dataframe thead th {\n",
       "        text-align: right;\n",
       "    }\n",
       "</style>\n",
       "<table border=\"1\" class=\"dataframe\">\n",
       "  <thead>\n",
       "    <tr style=\"text-align: right;\">\n",
       "      <th></th>\n",
       "      <th>Asian</th>\n",
       "      <th>Black</th>\n",
       "      <th>Hispanic</th>\n",
       "      <th>Other</th>\n",
       "      <th>White</th>\n",
       "    </tr>\n",
       "  </thead>\n",
       "  <tbody>\n",
       "    <tr>\n",
       "      <th>0</th>\n",
       "      <td>0</td>\n",
       "      <td>0</td>\n",
       "      <td>0</td>\n",
       "      <td>0</td>\n",
       "      <td>1</td>\n",
       "    </tr>\n",
       "    <tr>\n",
       "      <th>1</th>\n",
       "      <td>0</td>\n",
       "      <td>0</td>\n",
       "      <td>0</td>\n",
       "      <td>0</td>\n",
       "      <td>1</td>\n",
       "    </tr>\n",
       "    <tr>\n",
       "      <th>2</th>\n",
       "      <td>0</td>\n",
       "      <td>0</td>\n",
       "      <td>0</td>\n",
       "      <td>0</td>\n",
       "      <td>1</td>\n",
       "    </tr>\n",
       "    <tr>\n",
       "      <th>3</th>\n",
       "      <td>1</td>\n",
       "      <td>0</td>\n",
       "      <td>0</td>\n",
       "      <td>0</td>\n",
       "      <td>0</td>\n",
       "    </tr>\n",
       "    <tr>\n",
       "      <th>4</th>\n",
       "      <td>0</td>\n",
       "      <td>0</td>\n",
       "      <td>0</td>\n",
       "      <td>0</td>\n",
       "      <td>1</td>\n",
       "    </tr>\n",
       "  </tbody>\n",
       "</table>\n",
       "</div>"
      ],
      "text/plain": [
       "   Asian  Black  Hispanic  Other  White\n",
       "0      0      0         0      0      1\n",
       "1      0      0         0      0      1\n",
       "2      0      0         0      0      1\n",
       "3      1      0         0      0      0\n",
       "4      0      0         0      0      1"
      ]
     },
     "execution_count": 13,
     "metadata": {},
     "output_type": "execute_result"
    }
   ],
   "source": [
    "race_dummies.head()"
   ]
  },
  {
   "cell_type": "code",
   "execution_count": 14,
   "metadata": {},
   "outputs": [
    {
     "data": {
      "text/html": [
       "<div>\n",
       "<style scoped>\n",
       "    .dataframe tbody tr th:only-of-type {\n",
       "        vertical-align: middle;\n",
       "    }\n",
       "\n",
       "    .dataframe tbody tr th {\n",
       "        vertical-align: top;\n",
       "    }\n",
       "\n",
       "    .dataframe thead th {\n",
       "        text-align: right;\n",
       "    }\n",
       "</style>\n",
       "<table border=\"1\" class=\"dataframe\">\n",
       "  <thead>\n",
       "    <tr style=\"text-align: right;\">\n",
       "      <th></th>\n",
       "      <th>O_Asian</th>\n",
       "      <th>O_Black</th>\n",
       "      <th>O_Hispanic</th>\n",
       "      <th>O_Other</th>\n",
       "      <th>O_White</th>\n",
       "    </tr>\n",
       "  </thead>\n",
       "  <tbody>\n",
       "    <tr>\n",
       "      <th>0</th>\n",
       "      <td>0</td>\n",
       "      <td>0</td>\n",
       "      <td>0</td>\n",
       "      <td>0</td>\n",
       "      <td>1</td>\n",
       "    </tr>\n",
       "    <tr>\n",
       "      <th>1</th>\n",
       "      <td>0</td>\n",
       "      <td>0</td>\n",
       "      <td>0</td>\n",
       "      <td>0</td>\n",
       "      <td>1</td>\n",
       "    </tr>\n",
       "    <tr>\n",
       "      <th>2</th>\n",
       "      <td>0</td>\n",
       "      <td>0</td>\n",
       "      <td>0</td>\n",
       "      <td>0</td>\n",
       "      <td>1</td>\n",
       "    </tr>\n",
       "    <tr>\n",
       "      <th>3</th>\n",
       "      <td>0</td>\n",
       "      <td>0</td>\n",
       "      <td>0</td>\n",
       "      <td>0</td>\n",
       "      <td>1</td>\n",
       "    </tr>\n",
       "    <tr>\n",
       "      <th>4</th>\n",
       "      <td>0</td>\n",
       "      <td>0</td>\n",
       "      <td>0</td>\n",
       "      <td>0</td>\n",
       "      <td>1</td>\n",
       "    </tr>\n",
       "  </tbody>\n",
       "</table>\n",
       "</div>"
      ],
      "text/plain": [
       "   O_Asian  O_Black  O_Hispanic  O_Other  O_White\n",
       "0        0        0           0        0        1\n",
       "1        0        0           0        0        1\n",
       "2        0        0           0        0        1\n",
       "3        0        0           0        0        1\n",
       "4        0        0           0        0        1"
      ]
     },
     "execution_count": 14,
     "metadata": {},
     "output_type": "execute_result"
    }
   ],
   "source": [
    "officer_race = pd.get_dummies(df.officer_race)\n",
    "officer_race.columns = ['O_Asian', 'O_Black', 'O_Hispanic', 'O_Other', 'O_White']\n",
    "officer_race.head()"
   ]
  },
  {
   "cell_type": "code",
   "execution_count": null,
   "metadata": {},
   "outputs": [],
   "source": []
  },
  {
   "cell_type": "code",
   "execution_count": 16,
   "metadata": {},
   "outputs": [],
   "source": [
    "merged = df.merge(race_dummies, left_index=True, right_index=True)"
   ]
  },
  {
   "cell_type": "code",
   "execution_count": 17,
   "metadata": {},
   "outputs": [],
   "source": [
    "merged = merged.merge(officer_race, left_index=True, right_index=True)"
   ]
  },
  {
   "cell_type": "code",
   "execution_count": 18,
   "metadata": {},
   "outputs": [],
   "source": [
    "merged.set_index(merged['stop_date'], inplace=True)"
   ]
  },
  {
   "cell_type": "code",
   "execution_count": null,
   "metadata": {},
   "outputs": [],
   "source": []
  },
  {
   "cell_type": "code",
   "execution_count": 20,
   "metadata": {},
   "outputs": [],
   "source": [
    "merged['drugs_related_stop'] = pd.Series(np.where(merged.drugs_related_stop.values == False, 0, 1),\n",
    "          merged.index)\n"
   ]
  },
  {
   "cell_type": "code",
   "execution_count": 21,
   "metadata": {},
   "outputs": [],
   "source": [
    "merged['search_conducted'] = pd.Series(np.where(merged.search_conducted.values == False, 0, 1),\n",
    "          merged.index)"
   ]
  },
  {
   "cell_type": "code",
   "execution_count": 117,
   "metadata": {},
   "outputs": [],
   "source": [
    "merged['White_White'] = merged.White * merged.O_White"
   ]
  },
  {
   "cell_type": "code",
   "execution_count": 118,
   "metadata": {},
   "outputs": [],
   "source": [
    "merged['Black_White'] = merged.Black * merged.O_White"
   ]
  },
  {
   "cell_type": "code",
   "execution_count": 119,
   "metadata": {},
   "outputs": [
    {
     "data": {
      "text/html": [
       "<div>\n",
       "<style scoped>\n",
       "    .dataframe tbody tr th:only-of-type {\n",
       "        vertical-align: middle;\n",
       "    }\n",
       "\n",
       "    .dataframe tbody tr th {\n",
       "        vertical-align: top;\n",
       "    }\n",
       "\n",
       "    .dataframe thead th {\n",
       "        text-align: right;\n",
       "    }\n",
       "</style>\n",
       "<table border=\"1\" class=\"dataframe\">\n",
       "  <thead>\n",
       "    <tr style=\"text-align: right;\">\n",
       "      <th></th>\n",
       "      <th>Unnamed: 0</th>\n",
       "      <th>id</th>\n",
       "      <th>stop_date</th>\n",
       "      <th>county_name</th>\n",
       "      <th>fine_grained_location</th>\n",
       "      <th>driver_gender</th>\n",
       "      <th>driver_age</th>\n",
       "      <th>driver_race</th>\n",
       "      <th>violation</th>\n",
       "      <th>search_conducted</th>\n",
       "      <th>...</th>\n",
       "      <th>Hispanic</th>\n",
       "      <th>Other</th>\n",
       "      <th>White</th>\n",
       "      <th>O_Asian</th>\n",
       "      <th>O_Black</th>\n",
       "      <th>O_Hispanic</th>\n",
       "      <th>O_Other</th>\n",
       "      <th>O_White</th>\n",
       "      <th>White_White</th>\n",
       "      <th>Black_White</th>\n",
       "    </tr>\n",
       "    <tr>\n",
       "      <th>stop_date</th>\n",
       "      <th></th>\n",
       "      <th></th>\n",
       "      <th></th>\n",
       "      <th></th>\n",
       "      <th></th>\n",
       "      <th></th>\n",
       "      <th></th>\n",
       "      <th></th>\n",
       "      <th></th>\n",
       "      <th></th>\n",
       "      <th></th>\n",
       "      <th></th>\n",
       "      <th></th>\n",
       "      <th></th>\n",
       "      <th></th>\n",
       "      <th></th>\n",
       "      <th></th>\n",
       "      <th></th>\n",
       "      <th></th>\n",
       "      <th></th>\n",
       "      <th></th>\n",
       "    </tr>\n",
       "  </thead>\n",
       "  <tbody>\n",
       "    <tr>\n",
       "      <th>2009-01-01</th>\n",
       "      <td>0</td>\n",
       "      <td>WA-2009-0000001</td>\n",
       "      <td>2009-01-01</td>\n",
       "      <td>Spokane County</td>\n",
       "      <td>S-002-280</td>\n",
       "      <td>0</td>\n",
       "      <td>27.0</td>\n",
       "      <td>White</td>\n",
       "      <td>Equipment</td>\n",
       "      <td>0</td>\n",
       "      <td>...</td>\n",
       "      <td>0</td>\n",
       "      <td>0</td>\n",
       "      <td>1</td>\n",
       "      <td>0</td>\n",
       "      <td>0</td>\n",
       "      <td>0</td>\n",
       "      <td>0</td>\n",
       "      <td>1</td>\n",
       "      <td>1</td>\n",
       "      <td>0</td>\n",
       "    </tr>\n",
       "    <tr>\n",
       "      <th>2009-01-01</th>\n",
       "      <td>1</td>\n",
       "      <td>WA-2009-0000002</td>\n",
       "      <td>2009-01-01</td>\n",
       "      <td>NaN</td>\n",
       "      <td>C-018-NA</td>\n",
       "      <td>0</td>\n",
       "      <td>21.0</td>\n",
       "      <td>White</td>\n",
       "      <td>Speeding</td>\n",
       "      <td>0</td>\n",
       "      <td>...</td>\n",
       "      <td>0</td>\n",
       "      <td>0</td>\n",
       "      <td>1</td>\n",
       "      <td>0</td>\n",
       "      <td>0</td>\n",
       "      <td>0</td>\n",
       "      <td>0</td>\n",
       "      <td>1</td>\n",
       "      <td>1</td>\n",
       "      <td>0</td>\n",
       "    </tr>\n",
       "    <tr>\n",
       "      <th>2009-01-01</th>\n",
       "      <td>2</td>\n",
       "      <td>WA-2009-0000003</td>\n",
       "      <td>2009-01-01</td>\n",
       "      <td>King County</td>\n",
       "      <td>S-516-7</td>\n",
       "      <td>1</td>\n",
       "      <td>17.0</td>\n",
       "      <td>White</td>\n",
       "      <td>Speeding</td>\n",
       "      <td>0</td>\n",
       "      <td>...</td>\n",
       "      <td>0</td>\n",
       "      <td>0</td>\n",
       "      <td>1</td>\n",
       "      <td>0</td>\n",
       "      <td>0</td>\n",
       "      <td>0</td>\n",
       "      <td>0</td>\n",
       "      <td>1</td>\n",
       "      <td>1</td>\n",
       "      <td>0</td>\n",
       "    </tr>\n",
       "    <tr>\n",
       "      <th>2009-01-01</th>\n",
       "      <td>3</td>\n",
       "      <td>WA-2009-0000004</td>\n",
       "      <td>2009-01-01</td>\n",
       "      <td>King County</td>\n",
       "      <td>S-515-2</td>\n",
       "      <td>0</td>\n",
       "      <td>31.0</td>\n",
       "      <td>Asian</td>\n",
       "      <td>License,Lights,Paperwork</td>\n",
       "      <td>1</td>\n",
       "      <td>...</td>\n",
       "      <td>0</td>\n",
       "      <td>0</td>\n",
       "      <td>0</td>\n",
       "      <td>0</td>\n",
       "      <td>0</td>\n",
       "      <td>0</td>\n",
       "      <td>0</td>\n",
       "      <td>1</td>\n",
       "      <td>0</td>\n",
       "      <td>0</td>\n",
       "    </tr>\n",
       "    <tr>\n",
       "      <th>2009-01-01</th>\n",
       "      <td>4</td>\n",
       "      <td>WA-2009-0000005</td>\n",
       "      <td>2009-01-01</td>\n",
       "      <td>Kitsap County</td>\n",
       "      <td>S-303-8</td>\n",
       "      <td>1</td>\n",
       "      <td>24.0</td>\n",
       "      <td>White</td>\n",
       "      <td>Safe movement</td>\n",
       "      <td>0</td>\n",
       "      <td>...</td>\n",
       "      <td>0</td>\n",
       "      <td>0</td>\n",
       "      <td>1</td>\n",
       "      <td>0</td>\n",
       "      <td>0</td>\n",
       "      <td>0</td>\n",
       "      <td>0</td>\n",
       "      <td>1</td>\n",
       "      <td>1</td>\n",
       "      <td>0</td>\n",
       "    </tr>\n",
       "  </tbody>\n",
       "</table>\n",
       "<p>5 rows × 37 columns</p>\n",
       "</div>"
      ],
      "text/plain": [
       "            Unnamed: 0               id  stop_date     county_name  \\\n",
       "stop_date                                                            \n",
       "2009-01-01           0  WA-2009-0000001 2009-01-01  Spokane County   \n",
       "2009-01-01           1  WA-2009-0000002 2009-01-01             NaN   \n",
       "2009-01-01           2  WA-2009-0000003 2009-01-01     King County   \n",
       "2009-01-01           3  WA-2009-0000004 2009-01-01     King County   \n",
       "2009-01-01           4  WA-2009-0000005 2009-01-01   Kitsap County   \n",
       "\n",
       "           fine_grained_location  driver_gender  driver_age driver_race  \\\n",
       "stop_date                                                                 \n",
       "2009-01-01             S-002-280              0        27.0       White   \n",
       "2009-01-01              C-018-NA              0        21.0       White   \n",
       "2009-01-01               S-516-7              1        17.0       White   \n",
       "2009-01-01               S-515-2              0        31.0       Asian   \n",
       "2009-01-01               S-303-8              1        24.0       White   \n",
       "\n",
       "                           violation  search_conducted     ...      Hispanic  \\\n",
       "stop_date                                                  ...                 \n",
       "2009-01-01                 Equipment                 0     ...             0   \n",
       "2009-01-01                  Speeding                 0     ...             0   \n",
       "2009-01-01                  Speeding                 0     ...             0   \n",
       "2009-01-01  License,Lights,Paperwork                 1     ...             0   \n",
       "2009-01-01             Safe movement                 0     ...             0   \n",
       "\n",
       "            Other White O_Asian  O_Black  O_Hispanic O_Other O_White  \\\n",
       "stop_date                                                              \n",
       "2009-01-01      0     1       0        0           0       0       1   \n",
       "2009-01-01      0     1       0        0           0       0       1   \n",
       "2009-01-01      0     1       0        0           0       0       1   \n",
       "2009-01-01      0     0       0        0           0       0       1   \n",
       "2009-01-01      0     1       0        0           0       0       1   \n",
       "\n",
       "           White_White  Black_White  \n",
       "stop_date                            \n",
       "2009-01-01           1            0  \n",
       "2009-01-01           1            0  \n",
       "2009-01-01           1            0  \n",
       "2009-01-01           0            0  \n",
       "2009-01-01           1            0  \n",
       "\n",
       "[5 rows x 37 columns]"
      ]
     },
     "execution_count": 119,
     "metadata": {},
     "output_type": "execute_result"
    }
   ],
   "source": [
    "merged.head()"
   ]
  },
  {
   "cell_type": "code",
   "execution_count": 120,
   "metadata": {},
   "outputs": [
    {
     "data": {
      "text/plain": [
       "Index(['Unnamed: 0', 'id', 'stop_date', 'county_name', 'fine_grained_location',\n",
       "       'driver_gender', 'driver_age', 'driver_race', 'violation',\n",
       "       'search_conducted', 'search_type', 'contraband_found', 'stop_outcome',\n",
       "       'violations', 'officer_id', 'officer_gender', 'officer_race',\n",
       "       'highway_type', 'road_number', 'milepost', 'lat', 'lon', 'contact_type',\n",
       "       'enforcements', 'drugs_related_stop', 'Asian', 'Black', 'Hispanic',\n",
       "       'Other', 'White', 'O_Asian', 'O_Black', 'O_Hispanic', 'O_Other',\n",
       "       'O_White', 'White_White', 'Black_White'],\n",
       "      dtype='object')"
      ]
     },
     "execution_count": 120,
     "metadata": {},
     "output_type": "execute_result"
    }
   ],
   "source": [
    "merged.columns"
   ]
  },
  {
   "cell_type": "code",
   "execution_count": null,
   "metadata": {},
   "outputs": [],
   "source": []
  },
  {
   "cell_type": "code",
   "execution_count": 25,
   "metadata": {},
   "outputs": [],
   "source": [
    "X = merged.loc[:, ['driver_gender', 'driver_age', 'officer_gender', 'drugs_related_stop', 'Asian', 'Black', 'Hispanic',\n",
    "       'Other', 'White', 'O_Asian', 'O_Black', 'O_Hispanic', 'O_Other',\n",
    "       'O_White']]"
   ]
  },
  {
   "cell_type": "code",
   "execution_count": null,
   "metadata": {},
   "outputs": [],
   "source": [
    "#X = dmatrix(\"driver_gender + driver_age + officer_gender + drugs_related_stop + Asian +  Black + Hispanic + White + O_Asian+  O_Black+ O_Hispanic+O_White\", merged)\n"
   ]
  },
  {
   "cell_type": "markdown",
   "metadata": {},
   "source": [
    "#### Feature Engineering and dropping collinear columns"
   ]
  },
  {
   "cell_type": "code",
   "execution_count": 26,
   "metadata": {},
   "outputs": [],
   "source": [
    "X = X.drop(columns = ['Other', 'O_Other'])"
   ]
  },
  {
   "cell_type": "code",
   "execution_count": 81,
   "metadata": {},
   "outputs": [],
   "source": [
    "X['White_White'] = X.White * X.O_White\n"
   ]
  },
  {
   "cell_type": "code",
   "execution_count": 94,
   "metadata": {},
   "outputs": [],
   "source": [
    "X['Black_White'] = X.Black * X.O_White"
   ]
  },
  {
   "cell_type": "code",
   "execution_count": 95,
   "metadata": {},
   "outputs": [],
   "source": [
    "y = merged.loc[:, ['search_conducted']]"
   ]
  },
  {
   "cell_type": "code",
   "execution_count": 96,
   "metadata": {},
   "outputs": [],
   "source": [
    "X_train, X_test, y_train, y_test = train_test_split(X, y)"
   ]
  },
  {
   "cell_type": "code",
   "execution_count": 97,
   "metadata": {},
   "outputs": [],
   "source": [
    "logistic_model = LogisticRegression()"
   ]
  },
  {
   "cell_type": "code",
   "execution_count": 98,
   "metadata": {},
   "outputs": [
    {
     "name": "stderr",
     "output_type": "stream",
     "text": [
      "/anaconda3/lib/python3.6/site-packages/sklearn/utils/validation.py:578: DataConversionWarning: A column-vector y was passed when a 1d array was expected. Please change the shape of y to (n_samples, ), for example using ravel().\n",
      "  y = column_or_1d(y, warn=True)\n"
     ]
    },
    {
     "data": {
      "text/plain": [
       "LogisticRegression(C=1.0, class_weight=None, dual=False, fit_intercept=True,\n",
       "          intercept_scaling=1, max_iter=100, multi_class='ovr', n_jobs=1,\n",
       "          penalty='l2', random_state=None, solver='liblinear', tol=0.0001,\n",
       "          verbose=0, warm_start=False)"
      ]
     },
     "execution_count": 98,
     "metadata": {},
     "output_type": "execute_result"
    }
   ],
   "source": [
    "logistic_model.fit(X_train, y_train)"
   ]
  },
  {
   "cell_type": "code",
   "execution_count": 99,
   "metadata": {},
   "outputs": [],
   "source": [
    "preds = logistic_model.predict_proba(X_test)"
   ]
  },
  {
   "cell_type": "code",
   "execution_count": 100,
   "metadata": {},
   "outputs": [],
   "source": [
    "pos_preds = preds[:,1]"
   ]
  },
  {
   "cell_type": "markdown",
   "metadata": {},
   "source": [
    "#### This is the accuracy score, but most of the time a search is not conducted, so this is really not a good metric for evaluating the model."
   ]
  },
  {
   "cell_type": "code",
   "execution_count": 101,
   "metadata": {},
   "outputs": [
    {
     "data": {
      "text/plain": [
       "0.9606058893347652"
      ]
     },
     "execution_count": 101,
     "metadata": {},
     "output_type": "execute_result"
    }
   ],
   "source": [
    "logistic_model.score(X_test, y_test) "
   ]
  },
  {
   "cell_type": "code",
   "execution_count": 102,
   "metadata": {},
   "outputs": [
    {
     "data": {
      "text/plain": [
       "array([0.04585823, 0.02380205, 0.03587043, ..., 0.08086687, 0.04074532,\n",
       "       0.05245978])"
      ]
     },
     "execution_count": 102,
     "metadata": {},
     "output_type": "execute_result"
    }
   ],
   "source": [
    "pos_preds"
   ]
  },
  {
   "cell_type": "code",
   "execution_count": 103,
   "metadata": {},
   "outputs": [
    {
     "data": {
      "text/plain": [
       "search_conducted    876\n",
       "dtype: int64"
      ]
     },
     "execution_count": 103,
     "metadata": {},
     "output_type": "execute_result"
    }
   ],
   "source": [
    "y_test.sum() #number of searches conducted total"
   ]
  },
  {
   "cell_type": "code",
   "execution_count": 104,
   "metadata": {},
   "outputs": [
    {
     "data": {
      "text/plain": [
       "0.15975008192511708"
      ]
     },
     "execution_count": 104,
     "metadata": {},
     "output_type": "execute_result"
    }
   ],
   "source": [
    "log_loss(y_test, pos_preds)"
   ]
  },
  {
   "cell_type": "markdown",
   "metadata": {},
   "source": [
    "Being female is negatively associated with getting searched.  Also, the largest postivie coefficient was whether it was a drug-related stop or not.  Asian officers also tend to be associated with a higher likelihood of getting searched."
   ]
  },
  {
   "cell_type": "code",
   "execution_count": 105,
   "metadata": {},
   "outputs": [
    {
     "data": {
      "text/plain": [
       "array([[-3.55310241e-01, -2.64993123e-02, -1.73993945e-01,\n",
       "         5.30600167e+00, -1.53108557e+00, -7.74351265e-01,\n",
       "        -8.99955434e-01, -1.44790353e+00,  1.86711834e-01,\n",
       "         4.70089584e-02,  3.72324233e-01,  3.31839547e-01,\n",
       "         5.25427788e-03, -1.04561868e-01]])"
      ]
     },
     "execution_count": 105,
     "metadata": {},
     "output_type": "execute_result"
    }
   ],
   "source": [
    "logistic_model.coef_"
   ]
  },
  {
   "cell_type": "code",
   "execution_count": 106,
   "metadata": {},
   "outputs": [
    {
     "data": {
      "text/plain": [
       "Index(['driver_gender', 'driver_age', 'officer_gender', 'drugs_related_stop',\n",
       "       'Asian', 'Black', 'Hispanic', 'White', 'O_Asian', 'O_Black',\n",
       "       'O_Hispanic', 'O_White', 'White_White', 'Black_White'],\n",
       "      dtype='object')"
      ]
     },
     "execution_count": 106,
     "metadata": {},
     "output_type": "execute_result"
    }
   ],
   "source": [
    "X.columns"
   ]
  },
  {
   "cell_type": "code",
   "execution_count": 161,
   "metadata": {},
   "outputs": [],
   "source": [
    "#looking at some comparisons between race and getting searched"
   ]
  },
  {
   "cell_type": "code",
   "execution_count": 127,
   "metadata": {},
   "outputs": [],
   "source": [
    "plot_df = merged.loc[:, ['driver_gender', 'driver_age', 'officer_gender', 'search_conducted', 'drugs_related_stop', 'Asian', 'Black', 'Hispanic',\n",
    "       'Other', 'White', 'O_Asian', 'O_Black', 'O_Hispanic', 'O_Other',\n",
    "       'O_White', 'White_White', 'Black_White']]"
   ]
  },
  {
   "cell_type": "code",
   "execution_count": 128,
   "metadata": {},
   "outputs": [
    {
     "data": {
      "text/plain": [
       "0.043646671479127416"
      ]
     },
     "execution_count": 128,
     "metadata": {},
     "output_type": "execute_result"
    }
   ],
   "source": [
    "plot_df_white = plot_df[plot_df.White == 1]\n",
    "searches = plot_df_white.search_conducted.sum()/len(plot_df_white)\n",
    "searches"
   ]
  },
  {
   "cell_type": "code",
   "execution_count": 129,
   "metadata": {},
   "outputs": [
    {
     "data": {
      "text/plain": [
       "0.08688881968234195"
      ]
     },
     "execution_count": 129,
     "metadata": {},
     "output_type": "execute_result"
    }
   ],
   "source": [
    "plot_df_black = plot_df[plot_df.Black ==1]\n",
    "searches_black = plot_df_black.search_conducted.sum()/len(plot_df_black)\n",
    "searches_black"
   ]
  },
  {
   "cell_type": "code",
   "execution_count": 130,
   "metadata": {},
   "outputs": [],
   "source": [
    "races =[ 'Asian', 'Black', 'Hispanic',\n",
    "       'Other', 'White', 'White_White', 'Black_White'] \n",
    "search_percents = []\n",
    "for r in races:\n",
    "    search = plot_df[plot_df[r] == 1]\n",
    "    search_percents.append(search.search_conducted.sum()/len(search))"
   ]
  },
  {
   "cell_type": "code",
   "execution_count": null,
   "metadata": {},
   "outputs": [],
   "source": []
  },
  {
   "cell_type": "code",
   "execution_count": 131,
   "metadata": {},
   "outputs": [
    {
     "data": {
      "text/plain": [
       "[0.03859280651089525,\n",
       " 0.08688881968234195,\n",
       " 0.07350032959789057,\n",
       " 0.1615819209039548,\n",
       " 0.043646671479127416,\n",
       " 0.04485092444602301,\n",
       " 0.08972030512168544]"
      ]
     },
     "execution_count": 131,
     "metadata": {},
     "output_type": "execute_result"
    }
   ],
   "source": [
    "search_percents"
   ]
  },
  {
   "cell_type": "code",
   "execution_count": 132,
   "metadata": {},
   "outputs": [
    {
     "data": {
      "text/plain": [
       "Text(0.5,1,'Probability of Getting Searched')"
      ]
     },
     "execution_count": 132,
     "metadata": {},
     "output_type": "execute_result"
    },
    {
     "data": {
      "image/png": "[encoded data removed]",
      "text/plain": [
       "<Figure size 720x720 with 1 Axes>"
      ]
     },
     "metadata": {},
     "output_type": "display_data"
    }
   ],
   "source": [
    "fig, ax = plt.subplots(figsize=(10,10))\n",
    "ax.bar(races,search_percents)\n",
    "ax.set_title(\"Probability of Getting Searched\")"
   ]
  },
  {
   "cell_type": "code",
   "execution_count": null,
   "metadata": {},
   "outputs": [],
   "source": []
  }
 ],
 "metadata": {
  "kernelspec": {
   "display_name": "Python 3",
   "language": "python",
   "name": "python3"
  },
  "language_info": {
   "codemirror_mode": {
    "name": "ipython",
    "version": 3
   },
   "file_extension": ".py",
   "mimetype": "text/x-python",
   "name": "python",
   "nbconvert_exporter": "python",
   "pygments_lexer": "ipython3",
   "version": "3.6.7"
  }
 },
 "nbformat": 4,
 "nbformat_minor": 2
}
