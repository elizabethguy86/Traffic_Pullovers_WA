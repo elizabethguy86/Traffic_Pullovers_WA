{
 "cells": [
  {
   "cell_type": "code",
   "execution_count": 1,
   "metadata": {},
   "outputs": [],
   "source": [
    "import numpy as np\n",
    "import pandas as pd\n",
    "import matplotlib.pyplot as plt\n",
    "from patsy import dmatrices\n",
    "from sklearn.model_selection import train_test_split, GridSearchCV\n",
    "from sklearn.ensemble.partial_dependence import partial_dependence, plot_partial_dependence\n",
    "from sklearn.ensemble import RandomForestClassifier\n",
    "from sklearn.preprocessing import PolynomialFeatures\n",
    "from sklearn.linear_model import LogisticRegression\n",
    "from sklearn.metrics import log_loss"
   ]
  },
  {
   "cell_type": "code",
   "execution_count": 2,
   "metadata": {},
   "outputs": [],
   "source": [
    "df_abbrev = pd.read_csv('data/WA-clean-abbrev.csv')"
   ]
  },
  {
   "cell_type": "code",
   "execution_count": 3,
   "metadata": {},
   "outputs": [
    {
     "data": {
      "text/plain": [
       "Index(['Unnamed: 0', 'id', 'state', 'stop_date', 'stop_time', 'location_raw',\n",
       "       'county_name', 'county_fips', 'fine_grained_location',\n",
       "       'police_department', 'driver_gender', 'driver_age_raw', 'driver_age',\n",
       "       'driver_race_raw', 'driver_race', 'violation_raw', 'violation',\n",
       "       'search_conducted', 'search_type_raw', 'search_type',\n",
       "       'contraband_found', 'stop_outcome', 'is_arrested', 'violations',\n",
       "       'officer_id', 'officer_gender', 'officer_race', 'highway_type',\n",
       "       'road_number', 'milepost', 'lat', 'lon', 'contact_type', 'enforcements',\n",
       "       'drugs_related_stop'],\n",
       "      dtype='object')"
      ]
     },
     "execution_count": 3,
     "metadata": {},
     "output_type": "execute_result"
    }
   ],
   "source": [
    "df_abbrev.columns"
   ]
  },
  {
   "cell_type": "code",
   "execution_count": 4,
   "metadata": {},
   "outputs": [],
   "source": [
    "df = df_abbrev.drop(columns=['state', 'stop_time', 'location_raw', 'county_fips', 'police_department', 'driver_age_raw', 'driver_race_raw',\n",
    "                         'violation_raw','search_type_raw', 'is_arrested'])"
   ]
  },
  {
   "cell_type": "code",
   "execution_count": 5,
   "metadata": {},
   "outputs": [
    {
     "data": {
      "text/html": [
       "<div>\n",
       "<style scoped>\n",
       "    .dataframe tbody tr th:only-of-type {\n",
       "        vertical-align: middle;\n",
       "    }\n",
       "\n",
       "    .dataframe tbody tr th {\n",
       "        vertical-align: top;\n",
       "    }\n",
       "\n",
       "    .dataframe thead th {\n",
       "        text-align: right;\n",
       "    }\n",
       "</style>\n",
       "<table border=\"1\" class=\"dataframe\">\n",
       "  <thead>\n",
       "    <tr style=\"text-align: right;\">\n",
       "      <th></th>\n",
       "      <th>Unnamed: 0</th>\n",
       "      <th>id</th>\n",
       "      <th>stop_date</th>\n",
       "      <th>county_name</th>\n",
       "      <th>fine_grained_location</th>\n",
       "      <th>driver_gender</th>\n",
       "      <th>driver_age</th>\n",
       "      <th>driver_race</th>\n",
       "      <th>violation</th>\n",
       "      <th>search_conducted</th>\n",
       "      <th>...</th>\n",
       "      <th>officer_gender</th>\n",
       "      <th>officer_race</th>\n",
       "      <th>highway_type</th>\n",
       "      <th>road_number</th>\n",
       "      <th>milepost</th>\n",
       "      <th>lat</th>\n",
       "      <th>lon</th>\n",
       "      <th>contact_type</th>\n",
       "      <th>enforcements</th>\n",
       "      <th>drugs_related_stop</th>\n",
       "    </tr>\n",
       "  </thead>\n",
       "  <tbody>\n",
       "    <tr>\n",
       "      <th>0</th>\n",
       "      <td>0</td>\n",
       "      <td>WA-2009-0000001</td>\n",
       "      <td>2009-01-01</td>\n",
       "      <td>Spokane County</td>\n",
       "      <td>S-002-280</td>\n",
       "      <td>M</td>\n",
       "      <td>27.0</td>\n",
       "      <td>White</td>\n",
       "      <td>Equipment</td>\n",
       "      <td>False</td>\n",
       "      <td>...</td>\n",
       "      <td>M</td>\n",
       "      <td>White</td>\n",
       "      <td>S</td>\n",
       "      <td>002</td>\n",
       "      <td>280.0</td>\n",
       "      <td>47.643152</td>\n",
       "      <td>-117.544585</td>\n",
       "      <td>Self-Initiated Contact</td>\n",
       "      <td>3</td>\n",
       "      <td>False</td>\n",
       "    </tr>\n",
       "    <tr>\n",
       "      <th>1</th>\n",
       "      <td>1</td>\n",
       "      <td>WA-2009-0000002</td>\n",
       "      <td>2009-01-01</td>\n",
       "      <td>NaN</td>\n",
       "      <td>C-018-NA</td>\n",
       "      <td>M</td>\n",
       "      <td>21.0</td>\n",
       "      <td>White</td>\n",
       "      <td>Speeding</td>\n",
       "      <td>False</td>\n",
       "      <td>...</td>\n",
       "      <td>F</td>\n",
       "      <td>White</td>\n",
       "      <td>C</td>\n",
       "      <td>018</td>\n",
       "      <td>NaN</td>\n",
       "      <td>NaN</td>\n",
       "      <td>NaN</td>\n",
       "      <td>Self-Initiated Contact</td>\n",
       "      <td>3</td>\n",
       "      <td>False</td>\n",
       "    </tr>\n",
       "    <tr>\n",
       "      <th>2</th>\n",
       "      <td>2</td>\n",
       "      <td>WA-2009-0000003</td>\n",
       "      <td>2009-01-01</td>\n",
       "      <td>King County</td>\n",
       "      <td>S-516-7</td>\n",
       "      <td>F</td>\n",
       "      <td>17.0</td>\n",
       "      <td>White</td>\n",
       "      <td>Speeding</td>\n",
       "      <td>False</td>\n",
       "      <td>...</td>\n",
       "      <td>M</td>\n",
       "      <td>White</td>\n",
       "      <td>S</td>\n",
       "      <td>516</td>\n",
       "      <td>7.0</td>\n",
       "      <td>47.373378</td>\n",
       "      <td>-122.209356</td>\n",
       "      <td>Self-Initiated Contact</td>\n",
       "      <td>3</td>\n",
       "      <td>False</td>\n",
       "    </tr>\n",
       "    <tr>\n",
       "      <th>3</th>\n",
       "      <td>3</td>\n",
       "      <td>WA-2009-0000004</td>\n",
       "      <td>2009-01-01</td>\n",
       "      <td>King County</td>\n",
       "      <td>S-515-2</td>\n",
       "      <td>M</td>\n",
       "      <td>31.0</td>\n",
       "      <td>Asian</td>\n",
       "      <td>License,Lights,Paperwork</td>\n",
       "      <td>True</td>\n",
       "      <td>...</td>\n",
       "      <td>M</td>\n",
       "      <td>White</td>\n",
       "      <td>S</td>\n",
       "      <td>515</td>\n",
       "      <td>2.0</td>\n",
       "      <td>47.414073</td>\n",
       "      <td>-122.197144</td>\n",
       "      <td>Self-Initiated Contact</td>\n",
       "      <td>1,1,1</td>\n",
       "      <td>False</td>\n",
       "    </tr>\n",
       "    <tr>\n",
       "      <th>4</th>\n",
       "      <td>4</td>\n",
       "      <td>WA-2009-0000005</td>\n",
       "      <td>2009-01-01</td>\n",
       "      <td>Kitsap County</td>\n",
       "      <td>S-303-8</td>\n",
       "      <td>F</td>\n",
       "      <td>24.0</td>\n",
       "      <td>White</td>\n",
       "      <td>Safe movement</td>\n",
       "      <td>False</td>\n",
       "      <td>...</td>\n",
       "      <td>M</td>\n",
       "      <td>White</td>\n",
       "      <td>S</td>\n",
       "      <td>303</td>\n",
       "      <td>8.0</td>\n",
       "      <td>47.659471</td>\n",
       "      <td>-122.675907</td>\n",
       "      <td>Self-Initiated Contact</td>\n",
       "      <td>3,3</td>\n",
       "      <td>False</td>\n",
       "    </tr>\n",
       "  </tbody>\n",
       "</table>\n",
       "<p>5 rows × 25 columns</p>\n",
       "</div>"
      ],
      "text/plain": [
       "   Unnamed: 0               id   stop_date     county_name  \\\n",
       "0           0  WA-2009-0000001  2009-01-01  Spokane County   \n",
       "1           1  WA-2009-0000002  2009-01-01             NaN   \n",
       "2           2  WA-2009-0000003  2009-01-01     King County   \n",
       "3           3  WA-2009-0000004  2009-01-01     King County   \n",
       "4           4  WA-2009-0000005  2009-01-01   Kitsap County   \n",
       "\n",
       "  fine_grained_location driver_gender  driver_age driver_race  \\\n",
       "0             S-002-280             M        27.0       White   \n",
       "1              C-018-NA             M        21.0       White   \n",
       "2               S-516-7             F        17.0       White   \n",
       "3               S-515-2             M        31.0       Asian   \n",
       "4               S-303-8             F        24.0       White   \n",
       "\n",
       "                  violation  search_conducted         ...          \\\n",
       "0                 Equipment             False         ...           \n",
       "1                  Speeding             False         ...           \n",
       "2                  Speeding             False         ...           \n",
       "3  License,Lights,Paperwork              True         ...           \n",
       "4             Safe movement             False         ...           \n",
       "\n",
       "  officer_gender  officer_race highway_type road_number  milepost        lat  \\\n",
       "0              M         White            S         002     280.0  47.643152   \n",
       "1              F         White            C         018       NaN        NaN   \n",
       "2              M         White            S         516       7.0  47.373378   \n",
       "3              M         White            S         515       2.0  47.414073   \n",
       "4              M         White            S         303       8.0  47.659471   \n",
       "\n",
       "          lon            contact_type enforcements  drugs_related_stop  \n",
       "0 -117.544585  Self-Initiated Contact            3               False  \n",
       "1         NaN  Self-Initiated Contact            3               False  \n",
       "2 -122.209356  Self-Initiated Contact            3               False  \n",
       "3 -122.197144  Self-Initiated Contact        1,1,1               False  \n",
       "4 -122.675907  Self-Initiated Contact          3,3               False  \n",
       "\n",
       "[5 rows x 25 columns]"
      ]
     },
     "execution_count": 5,
     "metadata": {},
     "output_type": "execute_result"
    }
   ],
   "source": [
    "df.head()"
   ]
  },
  {
   "cell_type": "code",
   "execution_count": 6,
   "metadata": {},
   "outputs": [],
   "source": [
    "df['stop_date'] = pd.to_datetime(df.stop_date)"
   ]
  },
  {
   "cell_type": "code",
   "execution_count": 7,
   "metadata": {},
   "outputs": [],
   "source": [
    "df.driver_age.fillna(df.driver_age.mean(), inplace=True)"
   ]
  },
  {
   "cell_type": "code",
   "execution_count": 8,
   "metadata": {},
   "outputs": [],
   "source": [
    "df = df.dropna(subset=['driver_race', 'driver_gender'])"
   ]
  },
  {
   "cell_type": "code",
   "execution_count": 9,
   "metadata": {},
   "outputs": [
    {
     "data": {
      "text/plain": [
       "Unnamed: 0                   0\n",
       "id                           0\n",
       "stop_date                    0\n",
       "county_name              10427\n",
       "fine_grained_location        0\n",
       "driver_gender                0\n",
       "driver_age                   0\n",
       "driver_race                  0\n",
       "violation                  949\n",
       "search_conducted             0\n",
       "search_type              67276\n",
       "contraband_found             0\n",
       "stop_outcome               998\n",
       "violations                 949\n",
       "officer_id                   0\n",
       "officer_gender               0\n",
       "officer_race                 0\n",
       "highway_type                 0\n",
       "road_number                  0\n",
       "milepost                  7648\n",
       "lat                      10427\n",
       "lon                      10427\n",
       "contact_type               550\n",
       "enforcements               998\n",
       "drugs_related_stop           0\n",
       "dtype: int64"
      ]
     },
     "execution_count": 9,
     "metadata": {},
     "output_type": "execute_result"
    }
   ],
   "source": [
    "df.isnull().sum() #no missing values for search_conducted - could be interesting to look for"
   ]
  },
  {
   "cell_type": "code",
   "execution_count": 10,
   "metadata": {},
   "outputs": [],
   "source": [
    "df['driver_gender'] = pd.Series(np.where(df.driver_gender.values == 'F', 1, 0),\n",
    "          df.index)"
   ]
  },
  {
   "cell_type": "code",
   "execution_count": 11,
   "metadata": {},
   "outputs": [],
   "source": [
    "df['officer_gender'] = pd.Series(np.where(df.officer_gender.values == 'F', 1, 0),\n",
    "          df.index)"
   ]
  },
  {
   "cell_type": "code",
   "execution_count": 12,
   "metadata": {},
   "outputs": [],
   "source": [
    "race_dummies = pd.get_dummies(df.driver_race)"
   ]
  },
  {
   "cell_type": "code",
   "execution_count": 13,
   "metadata": {},
   "outputs": [
    {
     "data": {
      "text/html": [
       "<div>\n",
       "<style scoped>\n",
       "    .dataframe tbody tr th:only-of-type {\n",
       "        vertical-align: middle;\n",
       "    }\n",
       "\n",
       "    .dataframe tbody tr th {\n",
       "        vertical-align: top;\n",
       "    }\n",
       "\n",
       "    .dataframe thead th {\n",
       "        text-align: right;\n",
       "    }\n",
       "</style>\n",
       "<table border=\"1\" class=\"dataframe\">\n",
       "  <thead>\n",
       "    <tr style=\"text-align: right;\">\n",
       "      <th></th>\n",
       "      <th>Asian</th>\n",
       "      <th>Black</th>\n",
       "      <th>Hispanic</th>\n",
       "      <th>Other</th>\n",
       "      <th>White</th>\n",
       "    </tr>\n",
       "  </thead>\n",
       "  <tbody>\n",
       "    <tr>\n",
       "      <th>0</th>\n",
       "      <td>0</td>\n",
       "      <td>0</td>\n",
       "      <td>0</td>\n",
       "      <td>0</td>\n",
       "      <td>1</td>\n",
       "    </tr>\n",
       "    <tr>\n",
       "      <th>1</th>\n",
       "      <td>0</td>\n",
       "      <td>0</td>\n",
       "      <td>0</td>\n",
       "      <td>0</td>\n",
       "      <td>1</td>\n",
       "    </tr>\n",
       "    <tr>\n",
       "      <th>2</th>\n",
       "      <td>0</td>\n",
       "      <td>0</td>\n",
       "      <td>0</td>\n",
       "      <td>0</td>\n",
       "      <td>1</td>\n",
       "    </tr>\n",
       "    <tr>\n",
       "      <th>3</th>\n",
       "      <td>1</td>\n",
       "      <td>0</td>\n",
       "      <td>0</td>\n",
       "      <td>0</td>\n",
       "      <td>0</td>\n",
       "    </tr>\n",
       "    <tr>\n",
       "      <th>4</th>\n",
       "      <td>0</td>\n",
       "      <td>0</td>\n",
       "      <td>0</td>\n",
       "      <td>0</td>\n",
       "      <td>1</td>\n",
       "    </tr>\n",
       "  </tbody>\n",
       "</table>\n",
       "</div>"
      ],
      "text/plain": [
       "   Asian  Black  Hispanic  Other  White\n",
       "0      0      0         0      0      1\n",
       "1      0      0         0      0      1\n",
       "2      0      0         0      0      1\n",
       "3      1      0         0      0      0\n",
       "4      0      0         0      0      1"
      ]
     },
     "execution_count": 13,
     "metadata": {},
     "output_type": "execute_result"
    }
   ],
   "source": [
    "race_dummies.head()"
   ]
  },
  {
   "cell_type": "code",
   "execution_count": 14,
   "metadata": {},
   "outputs": [
    {
     "data": {
      "text/html": [
       "<div>\n",
       "<style scoped>\n",
       "    .dataframe tbody tr th:only-of-type {\n",
       "        vertical-align: middle;\n",
       "    }\n",
       "\n",
       "    .dataframe tbody tr th {\n",
       "        vertical-align: top;\n",
       "    }\n",
       "\n",
       "    .dataframe thead th {\n",
       "        text-align: right;\n",
       "    }\n",
       "</style>\n",
       "<table border=\"1\" class=\"dataframe\">\n",
       "  <thead>\n",
       "    <tr style=\"text-align: right;\">\n",
       "      <th></th>\n",
       "      <th>O_Asian</th>\n",
       "      <th>O_Black</th>\n",
       "      <th>O_Hispanic</th>\n",
       "      <th>O_Other</th>\n",
       "      <th>O_White</th>\n",
       "    </tr>\n",
       "  </thead>\n",
       "  <tbody>\n",
       "    <tr>\n",
       "      <th>0</th>\n",
       "      <td>0</td>\n",
       "      <td>0</td>\n",
       "      <td>0</td>\n",
       "      <td>0</td>\n",
       "      <td>1</td>\n",
       "    </tr>\n",
       "    <tr>\n",
       "      <th>1</th>\n",
       "      <td>0</td>\n",
       "      <td>0</td>\n",
       "      <td>0</td>\n",
       "      <td>0</td>\n",
       "      <td>1</td>\n",
       "    </tr>\n",
       "    <tr>\n",
       "      <th>2</th>\n",
       "      <td>0</td>\n",
       "      <td>0</td>\n",
       "      <td>0</td>\n",
       "      <td>0</td>\n",
       "      <td>1</td>\n",
       "    </tr>\n",
       "    <tr>\n",
       "      <th>3</th>\n",
       "      <td>0</td>\n",
       "      <td>0</td>\n",
       "      <td>0</td>\n",
       "      <td>0</td>\n",
       "      <td>1</td>\n",
       "    </tr>\n",
       "    <tr>\n",
       "      <th>4</th>\n",
       "      <td>0</td>\n",
       "      <td>0</td>\n",
       "      <td>0</td>\n",
       "      <td>0</td>\n",
       "      <td>1</td>\n",
       "    </tr>\n",
       "  </tbody>\n",
       "</table>\n",
       "</div>"
      ],
      "text/plain": [
       "   O_Asian  O_Black  O_Hispanic  O_Other  O_White\n",
       "0        0        0           0        0        1\n",
       "1        0        0           0        0        1\n",
       "2        0        0           0        0        1\n",
       "3        0        0           0        0        1\n",
       "4        0        0           0        0        1"
      ]
     },
     "execution_count": 14,
     "metadata": {},
     "output_type": "execute_result"
    }
   ],
   "source": [
    "officer_race = pd.get_dummies(df.officer_race)\n",
    "officer_race.columns = ['O_Asian', 'O_Black', 'O_Hispanic', 'O_Other', 'O_White']\n",
    "officer_race.head()"
   ]
  },
  {
   "cell_type": "code",
   "execution_count": null,
   "metadata": {},
   "outputs": [],
   "source": []
  },
  {
   "cell_type": "code",
   "execution_count": 15,
   "metadata": {},
   "outputs": [],
   "source": [
    "merged = df.merge(race_dummies, left_index=True, right_index=True)"
   ]
  },
  {
   "cell_type": "code",
   "execution_count": 16,
   "metadata": {},
   "outputs": [],
   "source": [
    "merged = merged.merge(officer_race, left_index=True, right_index=True)"
   ]
  },
  {
   "cell_type": "code",
   "execution_count": 17,
   "metadata": {},
   "outputs": [],
   "source": [
    "merged.set_index(merged['stop_date'], inplace=True)"
   ]
  },
  {
   "cell_type": "code",
   "execution_count": null,
   "metadata": {},
   "outputs": [],
   "source": []
  },
  {
   "cell_type": "code",
   "execution_count": 18,
   "metadata": {},
   "outputs": [],
   "source": [
    "merged['drugs_related_stop'] = pd.Series(np.where(merged.drugs_related_stop.values == False, 0, 1),\n",
    "          merged.index)\n"
   ]
  },
  {
   "cell_type": "code",
   "execution_count": 19,
   "metadata": {},
   "outputs": [],
   "source": [
    "merged['search_conducted'] = pd.Series(np.where(merged.search_conducted.values == False, 0, 1),\n",
    "          merged.index)"
   ]
  },
  {
   "cell_type": "code",
   "execution_count": 20,
   "metadata": {},
   "outputs": [],
   "source": [
    "merged['White_White'] = merged.White * merged.O_White"
   ]
  },
  {
   "cell_type": "code",
   "execution_count": 21,
   "metadata": {},
   "outputs": [],
   "source": [
    "merged['Black_White'] = merged.Black * merged.O_White"
   ]
  },
  {
   "cell_type": "code",
   "execution_count": 22,
   "metadata": {},
   "outputs": [],
   "source": [
    "merged['Asian_White'] = merged.Asian * merged.O_White"
   ]
  },
  {
   "cell_type": "code",
   "execution_count": 23,
   "metadata": {},
   "outputs": [],
   "source": [
    "merged['Hispanic_White'] = merged.Hispanic * merged.O_White"
   ]
  },
  {
   "cell_type": "code",
   "execution_count": 24,
   "metadata": {},
   "outputs": [],
   "source": [
    "merged['White_Black'] = merged.White * merged.O_Black"
   ]
  },
  {
   "cell_type": "code",
   "execution_count": 25,
   "metadata": {},
   "outputs": [],
   "source": [
    "merged['Black_Black'] = merged.Black * merged.O_Black"
   ]
  },
  {
   "cell_type": "code",
   "execution_count": 26,
   "metadata": {},
   "outputs": [
    {
     "data": {
      "text/html": [
       "<div>\n",
       "<style scoped>\n",
       "    .dataframe tbody tr th:only-of-type {\n",
       "        vertical-align: middle;\n",
       "    }\n",
       "\n",
       "    .dataframe tbody tr th {\n",
       "        vertical-align: top;\n",
       "    }\n",
       "\n",
       "    .dataframe thead th {\n",
       "        text-align: right;\n",
       "    }\n",
       "</style>\n",
       "<table border=\"1\" class=\"dataframe\">\n",
       "  <thead>\n",
       "    <tr style=\"text-align: right;\">\n",
       "      <th></th>\n",
       "      <th>Unnamed: 0</th>\n",
       "      <th>id</th>\n",
       "      <th>stop_date</th>\n",
       "      <th>county_name</th>\n",
       "      <th>fine_grained_location</th>\n",
       "      <th>driver_gender</th>\n",
       "      <th>driver_age</th>\n",
       "      <th>driver_race</th>\n",
       "      <th>violation</th>\n",
       "      <th>search_conducted</th>\n",
       "      <th>...</th>\n",
       "      <th>O_Black</th>\n",
       "      <th>O_Hispanic</th>\n",
       "      <th>O_Other</th>\n",
       "      <th>O_White</th>\n",
       "      <th>White_White</th>\n",
       "      <th>Black_White</th>\n",
       "      <th>Asian_White</th>\n",
       "      <th>Hispanic_White</th>\n",
       "      <th>White_Black</th>\n",
       "      <th>Black_Black</th>\n",
       "    </tr>\n",
       "    <tr>\n",
       "      <th>stop_date</th>\n",
       "      <th></th>\n",
       "      <th></th>\n",
       "      <th></th>\n",
       "      <th></th>\n",
       "      <th></th>\n",
       "      <th></th>\n",
       "      <th></th>\n",
       "      <th></th>\n",
       "      <th></th>\n",
       "      <th></th>\n",
       "      <th></th>\n",
       "      <th></th>\n",
       "      <th></th>\n",
       "      <th></th>\n",
       "      <th></th>\n",
       "      <th></th>\n",
       "      <th></th>\n",
       "      <th></th>\n",
       "      <th></th>\n",
       "      <th></th>\n",
       "      <th></th>\n",
       "    </tr>\n",
       "  </thead>\n",
       "  <tbody>\n",
       "    <tr>\n",
       "      <th>2009-01-01</th>\n",
       "      <td>0</td>\n",
       "      <td>WA-2009-0000001</td>\n",
       "      <td>2009-01-01</td>\n",
       "      <td>Spokane County</td>\n",
       "      <td>S-002-280</td>\n",
       "      <td>0</td>\n",
       "      <td>27.0</td>\n",
       "      <td>White</td>\n",
       "      <td>Equipment</td>\n",
       "      <td>0</td>\n",
       "      <td>...</td>\n",
       "      <td>0</td>\n",
       "      <td>0</td>\n",
       "      <td>0</td>\n",
       "      <td>1</td>\n",
       "      <td>1</td>\n",
       "      <td>0</td>\n",
       "      <td>0</td>\n",
       "      <td>0</td>\n",
       "      <td>0</td>\n",
       "      <td>0</td>\n",
       "    </tr>\n",
       "    <tr>\n",
       "      <th>2009-01-01</th>\n",
       "      <td>1</td>\n",
       "      <td>WA-2009-0000002</td>\n",
       "      <td>2009-01-01</td>\n",
       "      <td>NaN</td>\n",
       "      <td>C-018-NA</td>\n",
       "      <td>0</td>\n",
       "      <td>21.0</td>\n",
       "      <td>White</td>\n",
       "      <td>Speeding</td>\n",
       "      <td>0</td>\n",
       "      <td>...</td>\n",
       "      <td>0</td>\n",
       "      <td>0</td>\n",
       "      <td>0</td>\n",
       "      <td>1</td>\n",
       "      <td>1</td>\n",
       "      <td>0</td>\n",
       "      <td>0</td>\n",
       "      <td>0</td>\n",
       "      <td>0</td>\n",
       "      <td>0</td>\n",
       "    </tr>\n",
       "    <tr>\n",
       "      <th>2009-01-01</th>\n",
       "      <td>2</td>\n",
       "      <td>WA-2009-0000003</td>\n",
       "      <td>2009-01-01</td>\n",
       "      <td>King County</td>\n",
       "      <td>S-516-7</td>\n",
       "      <td>1</td>\n",
       "      <td>17.0</td>\n",
       "      <td>White</td>\n",
       "      <td>Speeding</td>\n",
       "      <td>0</td>\n",
       "      <td>...</td>\n",
       "      <td>0</td>\n",
       "      <td>0</td>\n",
       "      <td>0</td>\n",
       "      <td>1</td>\n",
       "      <td>1</td>\n",
       "      <td>0</td>\n",
       "      <td>0</td>\n",
       "      <td>0</td>\n",
       "      <td>0</td>\n",
       "      <td>0</td>\n",
       "    </tr>\n",
       "    <tr>\n",
       "      <th>2009-01-01</th>\n",
       "      <td>3</td>\n",
       "      <td>WA-2009-0000004</td>\n",
       "      <td>2009-01-01</td>\n",
       "      <td>King County</td>\n",
       "      <td>S-515-2</td>\n",
       "      <td>0</td>\n",
       "      <td>31.0</td>\n",
       "      <td>Asian</td>\n",
       "      <td>License,Lights,Paperwork</td>\n",
       "      <td>1</td>\n",
       "      <td>...</td>\n",
       "      <td>0</td>\n",
       "      <td>0</td>\n",
       "      <td>0</td>\n",
       "      <td>1</td>\n",
       "      <td>0</td>\n",
       "      <td>0</td>\n",
       "      <td>1</td>\n",
       "      <td>0</td>\n",
       "      <td>0</td>\n",
       "      <td>0</td>\n",
       "    </tr>\n",
       "    <tr>\n",
       "      <th>2009-01-01</th>\n",
       "      <td>4</td>\n",
       "      <td>WA-2009-0000005</td>\n",
       "      <td>2009-01-01</td>\n",
       "      <td>Kitsap County</td>\n",
       "      <td>S-303-8</td>\n",
       "      <td>1</td>\n",
       "      <td>24.0</td>\n",
       "      <td>White</td>\n",
       "      <td>Safe movement</td>\n",
       "      <td>0</td>\n",
       "      <td>...</td>\n",
       "      <td>0</td>\n",
       "      <td>0</td>\n",
       "      <td>0</td>\n",
       "      <td>1</td>\n",
       "      <td>1</td>\n",
       "      <td>0</td>\n",
       "      <td>0</td>\n",
       "      <td>0</td>\n",
       "      <td>0</td>\n",
       "      <td>0</td>\n",
       "    </tr>\n",
       "  </tbody>\n",
       "</table>\n",
       "<p>5 rows × 41 columns</p>\n",
       "</div>"
      ],
      "text/plain": [
       "            Unnamed: 0               id  stop_date     county_name  \\\n",
       "stop_date                                                            \n",
       "2009-01-01           0  WA-2009-0000001 2009-01-01  Spokane County   \n",
       "2009-01-01           1  WA-2009-0000002 2009-01-01             NaN   \n",
       "2009-01-01           2  WA-2009-0000003 2009-01-01     King County   \n",
       "2009-01-01           3  WA-2009-0000004 2009-01-01     King County   \n",
       "2009-01-01           4  WA-2009-0000005 2009-01-01   Kitsap County   \n",
       "\n",
       "           fine_grained_location  driver_gender  driver_age driver_race  \\\n",
       "stop_date                                                                 \n",
       "2009-01-01             S-002-280              0        27.0       White   \n",
       "2009-01-01              C-018-NA              0        21.0       White   \n",
       "2009-01-01               S-516-7              1        17.0       White   \n",
       "2009-01-01               S-515-2              0        31.0       Asian   \n",
       "2009-01-01               S-303-8              1        24.0       White   \n",
       "\n",
       "                           violation  search_conducted     ...      O_Black  \\\n",
       "stop_date                                                  ...                \n",
       "2009-01-01                 Equipment                 0     ...            0   \n",
       "2009-01-01                  Speeding                 0     ...            0   \n",
       "2009-01-01                  Speeding                 0     ...            0   \n",
       "2009-01-01  License,Lights,Paperwork                 1     ...            0   \n",
       "2009-01-01             Safe movement                 0     ...            0   \n",
       "\n",
       "            O_Hispanic O_Other O_White  White_White  Black_White Asian_White  \\\n",
       "stop_date                                                                      \n",
       "2009-01-01           0       0       1            1            0           0   \n",
       "2009-01-01           0       0       1            1            0           0   \n",
       "2009-01-01           0       0       1            1            0           0   \n",
       "2009-01-01           0       0       1            0            0           1   \n",
       "2009-01-01           0       0       1            1            0           0   \n",
       "\n",
       "           Hispanic_White White_Black  Black_Black  \n",
       "stop_date                                           \n",
       "2009-01-01              0           0            0  \n",
       "2009-01-01              0           0            0  \n",
       "2009-01-01              0           0            0  \n",
       "2009-01-01              0           0            0  \n",
       "2009-01-01              0           0            0  \n",
       "\n",
       "[5 rows x 41 columns]"
      ]
     },
     "execution_count": 26,
     "metadata": {},
     "output_type": "execute_result"
    }
   ],
   "source": [
    "merged.head()"
   ]
  },
  {
   "cell_type": "code",
   "execution_count": 27,
   "metadata": {},
   "outputs": [
    {
     "data": {
      "text/plain": [
       "Index(['Unnamed: 0', 'id', 'stop_date', 'county_name', 'fine_grained_location',\n",
       "       'driver_gender', 'driver_age', 'driver_race', 'violation',\n",
       "       'search_conducted', 'search_type', 'contraband_found', 'stop_outcome',\n",
       "       'violations', 'officer_id', 'officer_gender', 'officer_race',\n",
       "       'highway_type', 'road_number', 'milepost', 'lat', 'lon', 'contact_type',\n",
       "       'enforcements', 'drugs_related_stop', 'Asian', 'Black', 'Hispanic',\n",
       "       'Other', 'White', 'O_Asian', 'O_Black', 'O_Hispanic', 'O_Other',\n",
       "       'O_White', 'White_White', 'Black_White', 'Asian_White',\n",
       "       'Hispanic_White', 'White_Black', 'Black_Black'],\n",
       "      dtype='object')"
      ]
     },
     "execution_count": 27,
     "metadata": {},
     "output_type": "execute_result"
    }
   ],
   "source": [
    "merged.columns"
   ]
  },
  {
   "cell_type": "code",
   "execution_count": null,
   "metadata": {},
   "outputs": [],
   "source": []
  },
  {
   "cell_type": "code",
   "execution_count": 28,
   "metadata": {},
   "outputs": [],
   "source": [
    "X = merged.loc[:, ['driver_gender', 'driver_age', 'officer_gender', 'drugs_related_stop', 'Asian', 'Black', 'Hispanic',\n",
    "       'Other', 'White', 'O_Asian', 'O_Black', 'O_Hispanic', 'O_Other',\n",
    "       'O_White', 'White_White', 'Black_White', 'Asian_White',\n",
    "       'Hispanic_White', 'White_Black', 'Black_Black']]"
   ]
  },
  {
   "cell_type": "code",
   "execution_count": 192,
   "metadata": {},
   "outputs": [],
   "source": [
    "poly = PolynomialFeatures(interaction_only=True)"
   ]
  },
  {
   "cell_type": "code",
   "execution_count": 199,
   "metadata": {},
   "outputs": [],
   "source": [
    "fitted_X = poly.fit_transform(X)"
   ]
  },
  {
   "cell_type": "code",
   "execution_count": 206,
   "metadata": {},
   "outputs": [],
   "source": [
    "fitted_X_train, fitted_X_test, fitted_y_train, fitted_y_test = train_test_split(fitted_X, y)"
   ]
  },
  {
   "cell_type": "code",
   "execution_count": 207,
   "metadata": {},
   "outputs": [],
   "source": [
    "log_model_2 = LogisticRegression()"
   ]
  },
  {
   "cell_type": "code",
   "execution_count": 208,
   "metadata": {},
   "outputs": [
    {
     "name": "stderr",
     "output_type": "stream",
     "text": [
      "/anaconda3/lib/python3.6/site-packages/sklearn/utils/validation.py:578: DataConversionWarning: A column-vector y was passed when a 1d array was expected. Please change the shape of y to (n_samples, ), for example using ravel().\n",
      "  y = column_or_1d(y, warn=True)\n"
     ]
    },
    {
     "data": {
      "text/plain": [
       "LogisticRegression(C=1.0, class_weight=None, dual=False, fit_intercept=True,\n",
       "          intercept_scaling=1, max_iter=100, multi_class='ovr', n_jobs=1,\n",
       "          penalty='l2', random_state=None, solver='liblinear', tol=0.0001,\n",
       "          verbose=0, warm_start=False)"
      ]
     },
     "execution_count": 208,
     "metadata": {},
     "output_type": "execute_result"
    }
   ],
   "source": [
    "log_model_2.fit(fitted_X_train, fitted_y_train)"
   ]
  },
  {
   "cell_type": "code",
   "execution_count": 209,
   "metadata": {},
   "outputs": [],
   "source": [
    "preds = log_model_2.predict_proba(fitted_X_test)"
   ]
  },
  {
   "cell_type": "code",
   "execution_count": 210,
   "metadata": {},
   "outputs": [
    {
     "data": {
      "text/plain": [
       "0.1626029927579093"
      ]
     },
     "execution_count": 210,
     "metadata": {},
     "output_type": "execute_result"
    }
   ],
   "source": [
    "log_loss(fitted_y_test, preds)"
   ]
  },
  {
   "cell_type": "code",
   "execution_count": 211,
   "metadata": {},
   "outputs": [
    {
     "data": {
      "text/plain": [
       "array([[-7.49774688e-01, -5.70197317e-01, -1.96049999e-02,\n",
       "        -2.59176954e-01,  2.89747342e+00, -2.68816096e-01,\n",
       "         1.47858159e-03,  1.47626383e-03,  2.27831439e-01,\n",
       "        -7.11744876e-01, -4.44107680e-03, -6.47407715e-01,\n",
       "         1.89162343e-01, -3.56332505e-01,  6.92442655e-02,\n",
       "         8.57533436e-03,  2.08096247e-01,  6.53048585e-01,\n",
       "         3.33546330e-02, -4.66344692e-01, -6.28854512e-01,\n",
       "         3.23659674e-01,  1.67987580e-01, -2.66115483e-01,\n",
       "         2.49051304e-01, -2.33712646e-01, -1.37925349e-01,\n",
       "        -1.81495142e-01,  7.40706504e-03,  1.10235518e-02,\n",
       "        -1.27812049e-02, -1.28547950e-04, -7.40028376e-03,\n",
       "         3.79688721e-03, -3.09185038e-03, -1.20665827e-02,\n",
       "         1.05292331e-02, -1.21074280e-02,  1.88143187e-03,\n",
       "        -7.84165434e-03, -8.97052204e-01,  9.07335227e-02,\n",
       "        -4.65946225e-01,  4.83297558e-01, -3.42992818e-01,\n",
       "        -2.42689905e-02, -5.54645209e-01,  0.00000000e+00,\n",
       "        -3.64307960e-01,  7.72122819e-01, -1.12346604e-01,\n",
       "         3.73899141e-01,  5.17357321e-01,  8.91371926e-01,\n",
       "         3.03588353e-01,  8.11256682e-01,  5.97145405e-01,\n",
       "         3.06036852e-01,  1.91696826e-01,  4.90466268e-01,\n",
       "         1.31212807e+00,  0.00000000e+00,  0.00000000e+00,\n",
       "         0.00000000e+00,  0.00000000e+00,  1.12550805e-01,\n",
       "        -2.10436928e-01,  8.54216896e-02, -5.28614308e-02,\n",
       "        -2.03490231e-01,  0.00000000e+00,  0.00000000e+00,\n",
       "         0.00000000e+00, -3.64663386e-01, -5.21772073e-02,\n",
       "         2.23288518e-01,  1.84512313e-01,  1.05183444e-02,\n",
       "         0.00000000e+00,  0.00000000e+00,  1.39227749e-01,\n",
       "         4.26737020e-01, -4.55533518e-02, -4.96736910e-01,\n",
       "        -2.21982434e-02,  0.00000000e+00, -5.53859159e-02,\n",
       "        -3.84022723e-01,  4.62466844e-02,  3.25640766e-01,\n",
       "         2.95352629e-01,  1.63829672e-01, -4.27507876e-01,\n",
       "        -1.20241196e-01, -3.16887243e-01, -1.09382328e-02,\n",
       "         0.00000000e+00,  0.00000000e+00,  0.00000000e+00,\n",
       "         0.00000000e+00,  0.00000000e+00,  0.00000000e+00,\n",
       "         0.00000000e+00,  0.00000000e+00,  0.00000000e+00,\n",
       "         0.00000000e+00]])"
      ]
     },
     "execution_count": 211,
     "metadata": {},
     "output_type": "execute_result"
    }
   ],
   "source": [
    "log_model_2.coef_"
   ]
  },
  {
   "cell_type": "code",
   "execution_count": null,
   "metadata": {},
   "outputs": [],
   "source": [
    "#X = dmatrix(\"driver_gender + driver_age + officer_gender + drugs_related_stop + Asian +  Black + Hispanic + White + O_Asian+  O_Black+ O_Hispanic+O_White\", merged)\n"
   ]
  },
  {
   "cell_type": "markdown",
   "metadata": {},
   "source": [
    "#### Feature Engineering and dropping collinear columns"
   ]
  },
  {
   "cell_type": "code",
   "execution_count": 29,
   "metadata": {},
   "outputs": [],
   "source": [
    "X = X.drop(columns = ['Other', 'O_Other'])"
   ]
  },
  {
   "cell_type": "code",
   "execution_count": 30,
   "metadata": {},
   "outputs": [],
   "source": [
    "y = merged.loc[:, ['search_conducted']]"
   ]
  },
  {
   "cell_type": "code",
   "execution_count": 31,
   "metadata": {},
   "outputs": [],
   "source": [
    "X_train, X_test, y_train, y_test = train_test_split(X, y)"
   ]
  },
  {
   "cell_type": "code",
   "execution_count": 32,
   "metadata": {},
   "outputs": [],
   "source": [
    "logistic_model = LogisticRegression()"
   ]
  },
  {
   "cell_type": "code",
   "execution_count": 33,
   "metadata": {},
   "outputs": [
    {
     "name": "stderr",
     "output_type": "stream",
     "text": [
      "/anaconda3/lib/python3.6/site-packages/sklearn/utils/validation.py:578: DataConversionWarning: A column-vector y was passed when a 1d array was expected. Please change the shape of y to (n_samples, ), for example using ravel().\n",
      "  y = column_or_1d(y, warn=True)\n"
     ]
    },
    {
     "data": {
      "text/plain": [
       "LogisticRegression(C=1.0, class_weight=None, dual=False, fit_intercept=True,\n",
       "          intercept_scaling=1, max_iter=100, multi_class='ovr', n_jobs=1,\n",
       "          penalty='l2', random_state=None, solver='liblinear', tol=0.0001,\n",
       "          verbose=0, warm_start=False)"
      ]
     },
     "execution_count": 33,
     "metadata": {},
     "output_type": "execute_result"
    }
   ],
   "source": [
    "logistic_model.fit(X_train, y_train)"
   ]
  },
  {
   "cell_type": "code",
   "execution_count": 34,
   "metadata": {},
   "outputs": [],
   "source": [
    "preds = logistic_model.predict_proba(X_test)"
   ]
  },
  {
   "cell_type": "code",
   "execution_count": 35,
   "metadata": {},
   "outputs": [],
   "source": [
    "pos_preds = preds[:,1]"
   ]
  },
  {
   "cell_type": "markdown",
   "metadata": {},
   "source": [
    "#### This is the accuracy score, but most of the time a search is not conducted, so this is really not a good metric for evaluating the model."
   ]
  },
  {
   "cell_type": "code",
   "execution_count": 36,
   "metadata": {},
   "outputs": [
    {
     "data": {
      "text/plain": [
       "0.9611145650822359"
      ]
     },
     "execution_count": 36,
     "metadata": {},
     "output_type": "execute_result"
    }
   ],
   "source": [
    "logistic_model.score(X_test, y_test) "
   ]
  },
  {
   "cell_type": "code",
   "execution_count": 37,
   "metadata": {},
   "outputs": [
    {
     "data": {
      "text/plain": [
       "array([0.01975005, 0.05530369, 0.04794319, ..., 0.02553702, 0.06137876,\n",
       "       0.03919395])"
      ]
     },
     "execution_count": 37,
     "metadata": {},
     "output_type": "execute_result"
    }
   ],
   "source": [
    "pos_preds"
   ]
  },
  {
   "cell_type": "code",
   "execution_count": 38,
   "metadata": {},
   "outputs": [
    {
     "data": {
      "text/plain": [
       "search_conducted    847\n",
       "dtype: int64"
      ]
     },
     "execution_count": 38,
     "metadata": {},
     "output_type": "execute_result"
    }
   ],
   "source": [
    "y_test.sum() #number of searches conducted total"
   ]
  },
  {
   "cell_type": "code",
   "execution_count": 39,
   "metadata": {},
   "outputs": [
    {
     "data": {
      "text/plain": [
       "0.15844391105975347"
      ]
     },
     "execution_count": 39,
     "metadata": {},
     "output_type": "execute_result"
    }
   ],
   "source": [
    "log_loss(y_test, pos_preds)"
   ]
  },
  {
   "cell_type": "markdown",
   "metadata": {},
   "source": [
    "Being female is negatively associated with getting searched.  Also, the largest postivie coefficient was whether it was a drug-related stop or not.  Asian officers also tend to be associated with a higher likelihood of getting searched."
   ]
  },
  {
   "cell_type": "code",
   "execution_count": 40,
   "metadata": {},
   "outputs": [
    {
     "data": {
      "text/plain": [
       "array([[-0.39352407, -0.02612597, -0.18398255,  5.34402331, -0.89708827,\n",
       "        -0.42005079, -0.33117288, -1.08016872,  0.09729142,  0.24368223,\n",
       "         0.24624028,  0.66388789, -0.42025884, -0.35444857, -0.69681934,\n",
       "        -0.73128502, -0.64757901,  0.05709114]])"
      ]
     },
     "execution_count": 40,
     "metadata": {},
     "output_type": "execute_result"
    }
   ],
   "source": [
    "logistic_model.coef_"
   ]
  },
  {
   "cell_type": "code",
   "execution_count": 41,
   "metadata": {},
   "outputs": [
    {
     "data": {
      "text/plain": [
       "Index(['driver_gender', 'driver_age', 'officer_gender', 'drugs_related_stop',\n",
       "       'Asian', 'Black', 'Hispanic', 'White', 'O_Asian', 'O_Black',\n",
       "       'O_Hispanic', 'O_White', 'White_White', 'Black_White', 'Asian_White',\n",
       "       'Hispanic_White', 'White_Black', 'Black_Black'],\n",
       "      dtype='object')"
      ]
     },
     "execution_count": 41,
     "metadata": {},
     "output_type": "execute_result"
    }
   ],
   "source": [
    "X.columns"
   ]
  },
  {
   "cell_type": "code",
   "execution_count": 59,
   "metadata": {},
   "outputs": [
    {
     "data": {
      "text/plain": [
       "[('driver_gender', -0.3935240677185543),\n",
       " ('driver_age', -0.026125974607706486),\n",
       " ('officer_gender', -0.18398255317748974),\n",
       " ('drugs_related_stop', 5.344023308753422),\n",
       " ('Asian', -0.897088274439007),\n",
       " ('Black', -0.4200507938800719),\n",
       " ('Hispanic', -0.33117288482073703),\n",
       " ('White', -1.0801687160251703),\n",
       " ('O_Asian', 0.09729142178973262),\n",
       " ('O_Black', 0.24368222941758863),\n",
       " ('O_Hispanic', 0.24624028011210103),\n",
       " ('O_White', 0.6638878949044615),\n",
       " ('White_White', -0.42025884032732197),\n",
       " ('Black_White', -0.35444857105573435),\n",
       " ('Asian_White', -0.6968193355182569),\n",
       " ('Hispanic_White', -0.7312850205495123),\n",
       " ('White_Black', -0.6475790081350615),\n",
       " ('Black_Black', 0.05709114369361723)]"
      ]
     },
     "execution_count": 59,
     "metadata": {},
     "output_type": "execute_result"
    }
   ],
   "source": [
    "list(zip(X.columns, logistic_model.coef_[0]))"
   ]
  },
  {
   "cell_type": "code",
   "execution_count": 42,
   "metadata": {},
   "outputs": [],
   "source": [
    "#looking at some comparisons between race and getting searched"
   ]
  },
  {
   "cell_type": "code",
   "execution_count": 43,
   "metadata": {},
   "outputs": [],
   "source": [
    "plot_df = merged.loc[:, ['driver_gender', 'driver_age', 'officer_gender', 'search_conducted', 'drugs_related_stop', 'Asian', 'Black', 'Hispanic',\n",
    "       'Other', 'White', 'O_Asian', 'O_Black', 'O_Hispanic', 'O_Other',\n",
    "       'O_White', 'White_White', 'Black_White', 'Asian_White',\n",
    "       'Hispanic_White', 'White_Black', 'Black_Black']]"
   ]
  },
  {
   "cell_type": "code",
   "execution_count": 44,
   "metadata": {},
   "outputs": [
    {
     "data": {
      "text/plain": [
       "0.043646671479127416"
      ]
     },
     "execution_count": 44,
     "metadata": {},
     "output_type": "execute_result"
    }
   ],
   "source": [
    "plot_df_white = plot_df[plot_df.White == 1]\n",
    "searches = plot_df_white.search_conducted.sum()/len(plot_df_white)\n",
    "searches"
   ]
  },
  {
   "cell_type": "code",
   "execution_count": 45,
   "metadata": {},
   "outputs": [
    {
     "data": {
      "text/plain": [
       "0.08688881968234195"
      ]
     },
     "execution_count": 45,
     "metadata": {},
     "output_type": "execute_result"
    }
   ],
   "source": [
    "plot_df_black = plot_df[plot_df.Black ==1]\n",
    "searches_black = plot_df_black.search_conducted.sum()/len(plot_df_black)\n",
    "searches_black"
   ]
  },
  {
   "cell_type": "code",
   "execution_count": 55,
   "metadata": {},
   "outputs": [],
   "source": [
    "races =[ 'Asian', 'Black', 'Hispanic',\n",
    "       'Other', 'White','White_White', 'Black_White', 'Asian_White',\n",
    "       'Hispanic_White', 'White_Black', 'Black_Black'] \n",
    "search_percents = []\n",
    "for r in races:\n",
    "    search = plot_df[plot_df[r] == 1]\n",
    "    search_percents.append(search.search_conducted.sum()/len(search))"
   ]
  },
  {
   "cell_type": "code",
   "execution_count": 48,
   "metadata": {},
   "outputs": [],
   "source": [
    "search_black_white = plot_df_black[plot_df_black['O_White'] == 1]\n",
    "search_percents.append(search_black_white.search_conducted.sum()/len(plot_df_black))"
   ]
  },
  {
   "cell_type": "code",
   "execution_count": 50,
   "metadata": {},
   "outputs": [],
   "source": [
    "search_black_black = plot_df_black[plot_df_black['O_Black'] == 1]\n",
    "search_percents.append(search_black_black.search_conducted.sum()/len(plot_df_black))"
   ]
  },
  {
   "cell_type": "code",
   "execution_count": 53,
   "metadata": {},
   "outputs": [
    {
     "data": {
      "text/plain": [
       "0.03013278855975485"
      ]
     },
     "execution_count": 53,
     "metadata": {},
     "output_type": "execute_result"
    }
   ],
   "source": [
    "black_searches = plot_df[plot_df['O_Black'] == 1]\n",
    "black_searches.search_conducted.sum()/len(black_searches)"
   ]
  },
  {
   "cell_type": "code",
   "execution_count": 54,
   "metadata": {},
   "outputs": [
    {
     "data": {
      "text/plain": [
       "0.05055608516047029"
      ]
     },
     "execution_count": 54,
     "metadata": {},
     "output_type": "execute_result"
    }
   ],
   "source": [
    "white_searches = plot_df[plot_df['O_White'] == 1]\n",
    "white_searches.search_conducted.sum()/len(white_searches)"
   ]
  },
  {
   "cell_type": "code",
   "execution_count": 57,
   "metadata": {},
   "outputs": [
    {
     "data": {
      "text/plain": [
       "[(0.03859280651089525, 'Asian'),\n",
       " (0.08688881968234195, 'Black'),\n",
       " (0.07350032959789057, 'Hispanic'),\n",
       " (0.1615819209039548, 'Other'),\n",
       " (0.043646671479127416, 'White'),\n",
       " (0.04485092444602301, 'White_White'),\n",
       " (0.08972030512168544, 'Black_White'),\n",
       " (0.03932244404113733, 'Asian_White'),\n",
       " (0.07354028085735403, 'Hispanic_White'),\n",
       " (0.022742040285899934, 'White_Black'),\n",
       " (0.06569343065693431, 'Black_Black')]"
      ]
     },
     "execution_count": 57,
     "metadata": {},
     "output_type": "execute_result"
    }
   ],
   "source": [
    "list(zip(search_percents, races))"
   ]
  },
  {
   "cell_type": "markdown",
   "metadata": {},
   "source": [
    "#### Black Cops are more likely to search black people instead of white"
   ]
  },
  {
   "cell_type": "code",
   "execution_count": 267,
   "metadata": {},
   "outputs": [
    {
     "data": {
      "text/plain": [
       "Text(0.5,1,'Probability of Getting Searched')"
      ]
     },
     "execution_count": 267,
     "metadata": {},
     "output_type": "execute_result"
    },
    {
     "data": {
      "image/png": "[encoded data removed]",
      "text/plain": [
       "<Figure size 1008x720 with 1 Axes>"
      ]
     },
     "metadata": {},
     "output_type": "display_data"
    }
   ],
   "source": [
    "fig, ax = plt.subplots(figsize=(14,10))\n",
    "ax.bar(races,search_percents)\n",
    "ax.set_title(\"Probability of Getting Searched\")"
   ]
  },
  {
   "cell_type": "code",
   "execution_count": 137,
   "metadata": {},
   "outputs": [
    {
     "data": {
      "text/plain": [
       "(53077, 1)"
      ]
     },
     "execution_count": 137,
     "metadata": {},
     "output_type": "execute_result"
    }
   ],
   "source": [
    "y_train.shape"
   ]
  },
  {
   "cell_type": "code",
   "execution_count": 142,
   "metadata": {},
   "outputs": [
    {
     "name": "stderr",
     "output_type": "stream",
     "text": [
      "/anaconda3/lib/python3.6/site-packages/ipykernel_launcher.py:7: DataConversionWarning: A column-vector y was passed when a 1d array was expected. Please change the shape of y to (n_samples,), for example using ravel().\n",
      "  import sys\n"
     ]
    },
    {
     "name": "stdout",
     "output_type": "stream",
     "text": [
      "log loss = 0.16169086437802055\n",
      "accuracy = 0.9604363307522749\n"
     ]
    }
   ],
   "source": [
    "\n",
    "# Train and fit random forest model                                                   \n",
    "rf = RandomForestClassifier(n_estimators=1000,\n",
    "                           max_depth = 10,\n",
    "                           max_features='auto',\n",
    "                           random_state=0)\n",
    "rf.fit(X_train, y_train)\n",
    "                                     \n",
    "# Test Prediction\n",
    "pred = rf.predict_proba(X_test)\n",
    "print(f\"log loss = {log_loss(y_test, rf.predict_proba(X_test)[:, 1])}\")\n",
    "print(f\"accuracy = {rf.score(X_test, y_test)}\")"
   ]
  },
  {
   "cell_type": "code",
   "execution_count": 149,
   "metadata": {},
   "outputs": [
    {
     "data": {
      "text/plain": [
       "array([0.01180021, 0.12895476, 0.00536186, 0.81259438, 0.00727561,\n",
       "       0.00299537, 0.00632104, 0.00833695, 0.00302574, 0.0020524 ,\n",
       "       0.00338669, 0.00307817, 0.00294119, 0.00187563])"
      ]
     },
     "execution_count": 149,
     "metadata": {},
     "output_type": "execute_result"
    }
   ],
   "source": [
    "#feature importances\n",
    "importances = np.argsort(rf.feature_importances_)\n",
    "rf.feature_importances_"
   ]
  },
  {
   "cell_type": "markdown",
   "metadata": {},
   "source": [
    "#### feature importances from highest to lowest"
   ]
  },
  {
   "cell_type": "code",
   "execution_count": 151,
   "metadata": {},
   "outputs": [
    {
     "data": {
      "text/plain": [
       "Index(['drugs_related_stop', 'driver_age', 'driver_gender', 'White', 'Asian',\n",
       "       'Hispanic', 'officer_gender', 'O_Hispanic', 'O_White', 'O_Asian',\n",
       "       'Black', 'White_White', 'O_Black', 'Black_White'],\n",
       "      dtype='object')"
      ]
     },
     "execution_count": 151,
     "metadata": {},
     "output_type": "execute_result"
    }
   ],
   "source": [
    "X_train.columns[importances][::-1]"
   ]
  },
  {
   "cell_type": "code",
   "execution_count": 158,
   "metadata": {},
   "outputs": [
    {
     "data": {
      "text/plain": [
       "<matplotlib.axes._subplots.AxesSubplot at 0x1a24a54550>"
      ]
     },
     "execution_count": 158,
     "metadata": {},
     "output_type": "execute_result"
    },
    {
     "data": {
      "image/png": "[encoded data removed]",
      "text/plain": [
       "<Figure size 432x288 with 1 Axes>"
      ]
     },
     "metadata": {},
     "output_type": "display_data"
    }
   ],
   "source": [
    "# Plot the feature importance\n",
    "feat_scores = pd.DataFrame({'Fraction of Samples Affected' : rf.feature_importances_},\n",
    "                           index=X.columns)\n",
    "feat_scores = feat_scores.sort_values(by='Fraction of Samples Affected')\n",
    "feat_scores.plot(kind='barh')"
   ]
  },
  {
   "cell_type": "code",
   "execution_count": 165,
   "metadata": {},
   "outputs": [],
   "source": [
    "from treeinterpreter import treeinterpreter as ti"
   ]
  },
  {
   "cell_type": "code",
   "execution_count": 168,
   "metadata": {},
   "outputs": [],
   "source": [
    "prediction, bias, contributions = ti.predict(rf, X_test)"
   ]
  },
  {
   "cell_type": "code",
   "execution_count": 177,
   "metadata": {},
   "outputs": [
    {
     "data": {
      "text/plain": [
       "array([0.9491754, 0.0508246])"
      ]
     },
     "execution_count": 177,
     "metadata": {},
     "output_type": "execute_result"
    }
   ],
   "source": [
    "bias[1]"
   ]
  },
  {
   "cell_type": "code",
   "execution_count": 185,
   "metadata": {},
   "outputs": [
    {
     "data": {
      "text/plain": [
       "21231"
      ]
     },
     "execution_count": 185,
     "metadata": {},
     "output_type": "execute_result"
    }
   ],
   "source": [
    "len(contributions)"
   ]
  },
  {
   "cell_type": "code",
   "execution_count": 272,
   "metadata": {},
   "outputs": [
    {
     "data": {
      "text/plain": [
       "12.500000000000004"
      ]
     },
     "execution_count": 272,
     "metadata": {},
     "output_type": "execute_result"
    }
   ],
   "source": [
    "sum([0.1*x*1.25*(1-0.1)**(x-1) for x in range(1,1000)])"
   ]
  },
  {
   "cell_type": "code",
   "execution_count": null,
   "metadata": {},
   "outputs": [],
   "source": []
  }
 ],
 "metadata": {
  "kernelspec": {
   "display_name": "Python 3",
   "language": "python",
   "name": "python3"
  },
  "language_info": {
   "codemirror_mode": {
    "name": "ipython",
    "version": 3
   },
   "file_extension": ".py",
   "mimetype": "text/x-python",
   "name": "python",
   "nbconvert_exporter": "python",
   "pygments_lexer": "ipython3",
   "version": "3.6.7"
  }
 },
 "nbformat": 4,
 "nbformat_minor": 2
}
